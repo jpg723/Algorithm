{
 "cells": [
  {
   "cell_type": "code",
   "execution_count": 36,
   "id": "573c4786",
   "metadata": {},
   "outputs": [
    {
     "name": "stdout",
     "output_type": "stream",
     "text": [
      "3 1\n",
      "2 1\n",
      "1 3\n",
      "3 6\n",
      "4\n",
      "13\n",
      "Execution time: 11.935792446136475 seconds\n"
     ]
    }
   ],
   "source": [
    "N, Q = map(int, input().split())\n",
    "\n",
    "live_people = [0 for _ in range(N)]\n",
    "distance = [0 for _ in range(N)]\n",
    "\n",
    "for i in range(N):\n",
    "    live_people[i], distance[i] = map(int, input().split())\n",
    "\n",
    "spot = []\n",
    "\n",
    "for i in range(Q):\n",
    "    spot.append(int(input()))\n",
    "\n",
    "sum = []\n",
    "for i in range(Q):\n",
    "    total = 0\n",
    "    for j in range(N):\n",
    "        total += abs(distance[j] - spot[i]) * live_people[j]\n",
    "    \n",
    "    sum.append(total)\n",
    "    \n",
    "for i in range(Q):\n",
    "    print(sum[i])"
   ]
  }
 ],
 "metadata": {
  "kernelspec": {
   "display_name": "Python 3 (ipykernel)",
   "language": "python",
   "name": "python3"
  },
  "language_info": {
   "codemirror_mode": {
    "name": "ipython",
    "version": 3
   },
   "file_extension": ".py",
   "mimetype": "text/x-python",
   "name": "python",
   "nbconvert_exporter": "python",
   "pygments_lexer": "ipython3",
   "version": "3.11.5"
  }
 },
 "nbformat": 4,
 "nbformat_minor": 5
}
