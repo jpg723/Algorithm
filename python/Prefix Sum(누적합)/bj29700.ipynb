{
 "cells": [
  {
   "cell_type": "code",
   "execution_count": 29,
   "id": "19a62d54",
   "metadata": {},
   "outputs": [
    {
     "name": "stdout",
     "output_type": "stream",
     "text": [
      "3 5 3\n",
      "11000\n",
      "01010\n",
      "10000\n",
      "3\n"
     ]
    }
   ],
   "source": [
    "# https://www.acmicpc.net/problem/29700\n",
    "\n",
    "N, M, K = map(int, input().split())\n",
    "\n",
    "# 좌석 상태 입력\n",
    "sit = [input() for _ in range(N)]\n",
    "\n",
    "result = 0\n",
    "\n",
    "for i in range(N):\n",
    "    for j in range(M - K + 1):\n",
    "        \n",
    "        # 1이 없는 경우에 result 증가\n",
    "        if '1' not in sit[i][j:j+K]:\n",
    "            result += 1\n",
    "\n",
    "print(result)"
   ]
  },
  {
   "cell_type": "code",
   "execution_count": null,
   "id": "b60a4136",
   "metadata": {},
   "outputs": [],
   "source": []
  }
 ],
 "metadata": {
  "kernelspec": {
   "display_name": "Python 3 (ipykernel)",
   "language": "python",
   "name": "python3"
  },
  "language_info": {
   "codemirror_mode": {
    "name": "ipython",
    "version": 3
   },
   "file_extension": ".py",
   "mimetype": "text/x-python",
   "name": "python",
   "nbconvert_exporter": "python",
   "pygments_lexer": "ipython3",
   "version": "3.11.5"
  }
 },
 "nbformat": 4,
 "nbformat_minor": 5
}
