{
 "cells": [
  {
   "cell_type": "code",
   "execution_count": 15,
   "id": "0c18cd44",
   "metadata": {},
   "outputs": [
    {
     "name": "stdout",
     "output_type": "stream",
     "text": [
      "7\n",
      "A B C\n",
      "B D .\n",
      "C E F\n",
      "E . .\n",
      "F . G\n",
      "D . .\n",
      "G . .\n",
      "ABDCEFG\n",
      "DBAECFG\n",
      "DBEGFCA"
     ]
    }
   ],
   "source": [
    "# https://www.acmicpc.net/problem/1991\n",
    "# 트리 순회\n",
    "\n",
    "N = int(input())\n",
    "tree = {}\n",
    " \n",
    "for n in range(N):\n",
    "    root, left, right = input().split()\n",
    "    # 트리 구조를 표현하는 방법\n",
    "    tree[root] = [left, right]\n",
    " \n",
    "# 전위순회\n",
    "def preorder(root):\n",
    "    if root != '.':\n",
    "        print(root, end='')  # root\n",
    "        preorder(tree[root][0])  # left\n",
    "        preorder(tree[root][1])  # right\n",
    " \n",
    "# 중위 순회 \n",
    "def inorder(root):\n",
    "    if root != '.':\n",
    "        inorder(tree[root][0])  # left\n",
    "        print(root, end='')  # root\n",
    "        inorder(tree[root][1])  # right\n",
    " \n",
    "# 후위 순회 \n",
    "def postorder(root):\n",
    "    if root != '.':\n",
    "        postorder(tree[root][0])  # left\n",
    "        postorder(tree[root][1])  # right\n",
    "        print(root, end='')  # root\n",
    " \n",
    " \n",
    "preorder('A')\n",
    "print()\n",
    "inorder('A')\n",
    "print()\n",
    "postorder('A')"
   ]
  },
  {
   "cell_type": "code",
   "execution_count": null,
   "id": "5efdfac2",
   "metadata": {},
   "outputs": [],
   "source": []
  }
 ],
 "metadata": {
  "kernelspec": {
   "display_name": "Python 3 (ipykernel)",
   "language": "python",
   "name": "python3"
  },
  "language_info": {
   "codemirror_mode": {
    "name": "ipython",
    "version": 3
   },
   "file_extension": ".py",
   "mimetype": "text/x-python",
   "name": "python",
   "nbconvert_exporter": "python",
   "pygments_lexer": "ipython3",
   "version": "3.11.5"
  }
 },
 "nbformat": 4,
 "nbformat_minor": 5
}
