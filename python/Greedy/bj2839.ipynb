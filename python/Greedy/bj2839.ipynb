{
 "cells": [
  {
   "cell_type": "code",
   "execution_count": null,
   "id": "c8bddd0d",
   "metadata": {},
   "outputs": [],
   "source": [
    "# https://www.acmicpc.net/problem/2839\n",
    "\n",
    "N = int(input())\n",
    "\n",
    "count = 0;\n",
    "\n",
    "while True:\n",
    "\n",
    "    if(N <= 0):\n",
    "        break\n",
    "\n",
    "    if(N % 5 > N % 3):\n",
    "        N -= 3\n",
    "        count += 1\n",
    "\n",
    "\n",
    "    else:\n",
    "        N -= 5\n",
    "        count += 1\n",
    "\n",
    "if(N < 0) :\n",
    "    count = -1;\n",
    "\n",
    "print(count);"
   ]
  }
 ],
 "metadata": {
  "kernelspec": {
   "display_name": "Python 3 (ipykernel)",
   "language": "python",
   "name": "python3"
  },
  "language_info": {
   "codemirror_mode": {
    "name": "ipython",
    "version": 3
   },
   "file_extension": ".py",
   "mimetype": "text/x-python",
   "name": "python",
   "nbconvert_exporter": "python",
   "pygments_lexer": "ipython3",
   "version": "3.11.5"
  }
 },
 "nbformat": 4,
 "nbformat_minor": 5
}
