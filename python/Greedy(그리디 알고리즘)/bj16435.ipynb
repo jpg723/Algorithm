{
 "cells": [
  {
   "cell_type": "code",
   "execution_count": 8,
   "id": "69cc3dc1",
   "metadata": {},
   "outputs": [
    {
     "name": "stdout",
     "output_type": "stream",
     "text": [
      "9 1\n",
      "9 5 8 1 3 2 7 6 4\n",
      "10\n"
     ]
    }
   ],
   "source": [
    "#https://www.acmicpc.net/problem/16435\n",
    "\n",
    "#N, L입력\n",
    "N, L = map(int,input().split())\n",
    "\n",
    "#과일의 높이(h) 입력\n",
    "height = list(map(int,input().split()))\n",
    "\n",
    "#오름차순 정렬\n",
    "height.sort()\n",
    "\n",
    "for i in range (N):\n",
    "    \n",
    "    #길이가 과일 높이보다 크거나 같으면 길이 증가\n",
    "    if (L >= height[i]):\n",
    "        L += 1\n",
    "        \n",
    "    #아니면 종료\n",
    "    else:\n",
    "        break\n",
    "\n",
    "#결과 출력\n",
    "print(L)"
   ]
  },
  {
   "cell_type": "code",
   "execution_count": null,
   "id": "780985e4",
   "metadata": {},
   "outputs": [],
   "source": []
  }
 ],
 "metadata": {
  "kernelspec": {
   "display_name": "Python 3 (ipykernel)",
   "language": "python",
   "name": "python3"
  },
  "language_info": {
   "codemirror_mode": {
    "name": "ipython",
    "version": 3
   },
   "file_extension": ".py",
   "mimetype": "text/x-python",
   "name": "python",
   "nbconvert_exporter": "python",
   "pygments_lexer": "ipython3",
   "version": "3.11.5"
  }
 },
 "nbformat": 4,
 "nbformat_minor": 5
}
