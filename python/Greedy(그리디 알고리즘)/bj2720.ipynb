{
 "cells": [
  {
   "cell_type": "code",
   "execution_count": null,
   "id": "efd64d2d",
   "metadata": {},
   "outputs": [],
   "source": [
    "#https://www.acmicpc.net/problem/2720\n",
    "\n",
    "#T입력\n",
    "T = int(input())\n",
    "\n",
    "#동전 변수\n",
    "coin =[0, 0, 0, 0]\n",
    "\n",
    "for i in range(T) :\n",
    "    \n",
    "    #거스름돈 입력\n",
    "    C = int(input())\n",
    "    \n",
    "    while True:\n",
    "\n",
    "        if(C >= 25):\n",
    "            C -= 25\n",
    "            coin[0] += 1\n",
    "            continue\n",
    "\n",
    "        elif(C >= 10):\n",
    "            C -= 10\n",
    "            coin[1] += 1\n",
    "            continue\n",
    "\n",
    "        elif(C >= 5):\n",
    "            C -= 5\n",
    "            coin[2] += 1\n",
    "            continue\n",
    "\n",
    "        elif(C >= 1):\n",
    "            C -= 1\n",
    "            coin[3] += 1\n",
    "            continue\n",
    "\n",
    "        else:\n",
    "            print(coin[0], coin[1], coin[2], coin[3]) #결과 출력\n",
    "            coin =[0, 0, 0, 0] #초기화\n",
    "            break"
   ]
  }
 ],
 "metadata": {
  "kernelspec": {
   "display_name": "Python 3 (ipykernel)",
   "language": "python",
   "name": "python3"
  },
  "language_info": {
   "codemirror_mode": {
    "name": "ipython",
    "version": 3
   },
   "file_extension": ".py",
   "mimetype": "text/x-python",
   "name": "python",
   "nbconvert_exporter": "python",
   "pygments_lexer": "ipython3",
   "version": "3.11.5"
  }
 },
 "nbformat": 4,
 "nbformat_minor": 5
}
