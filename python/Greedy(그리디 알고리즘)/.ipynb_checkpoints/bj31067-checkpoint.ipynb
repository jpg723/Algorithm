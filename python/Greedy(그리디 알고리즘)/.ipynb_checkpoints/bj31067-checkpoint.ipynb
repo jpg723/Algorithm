{
 "cells": [
  {
   "cell_type": "code",
   "execution_count": 17,
   "id": "67e81286",
   "metadata": {
    "scrolled": false
   },
   "outputs": [
    {
     "name": "stdout",
     "output_type": "stream",
     "text": [
      "6 5\n",
      "2 4 3 9 5 8\n",
      "3\n"
     ]
    }
   ],
   "source": [
    "#https://www.acmicpc.net/problem/31067\n",
    "\n",
    "#N, K입력\n",
    "N, K = map(int,input().split())\n",
    "\n",
    "#트랙 입력\n",
    "track = list(map(int, input().split()))\n",
    "\n",
    "count = 0\n",
    "\n",
    "for i in range(1, N):\n",
    "    \n",
    "    #앞 트랙이 다음 트랙보다 크거나 같으면\n",
    "    if(track[i - 1] >= track[i]):\n",
    "        #K만큼 트랙 늘리기\n",
    "        track[i] = track[i] + K\n",
    "    \n",
    "    #다음트랙이 더 크면 처음으로\n",
    "    else:\n",
    "        continue\n",
    "    \n",
    "    #K만큼 늘어나도 앞 트랙이 다음 트랙보다 크거나 같다면\n",
    "    if(track[i - 1] >= track[i]):\n",
    "        #count -1로 만들고 종료\n",
    "        count = -1\n",
    "        break\n",
    "    \n",
    "    #다음 트랙이 앞 트랙보다 커졌다면 count증가\n",
    "    else:\n",
    "        count += 1\n",
    "\n",
    "#결과 출력\n",
    "print(count)"
   ]
  },
  {
   "cell_type": "code",
   "execution_count": null,
   "id": "824744af",
   "metadata": {},
   "outputs": [],
   "source": []
  }
 ],
 "metadata": {
  "kernelspec": {
   "display_name": "Python 3 (ipykernel)",
   "language": "python",
   "name": "python3"
  },
  "language_info": {
   "codemirror_mode": {
    "name": "ipython",
    "version": 3
   },
   "file_extension": ".py",
   "mimetype": "text/x-python",
   "name": "python",
   "nbconvert_exporter": "python",
   "pygments_lexer": "ipython3",
   "version": "3.11.5"
  }
 },
 "nbformat": 4,
 "nbformat_minor": 5
}
