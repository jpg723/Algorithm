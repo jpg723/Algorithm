{
 "cells": [
  {
   "cell_type": "code",
   "execution_count": null,
   "id": "9e1fce0f",
   "metadata": {},
   "outputs": [],
   "source": [
    "#https://www.acmicpc.net/problem/16953\n",
    "\n",
    "a,b = map(int,input().split())\n",
    "\n",
    "r = 1\n",
    "\n",
    "while(b!=a):\n",
    "    r+=1\n",
    "    temp = b\n",
    "    if b%10 == 1:\n",
    "        b//=10\n",
    "    elif b%2 == 0:\n",
    "        b//=2\n",
    "    \n",
    "    if temp == b:\n",
    "        print(-1)\n",
    "        break\n",
    "else:\n",
    "    print(r)"
   ]
  }
 ],
 "metadata": {
  "kernelspec": {
   "display_name": "Python 3 (ipykernel)",
   "language": "python",
   "name": "python3"
  },
  "language_info": {
   "codemirror_mode": {
    "name": "ipython",
    "version": 3
   },
   "file_extension": ".py",
   "mimetype": "text/x-python",
   "name": "python",
   "nbconvert_exporter": "python",
   "pygments_lexer": "ipython3",
   "version": "3.11.5"
  }
 },
 "nbformat": 4,
 "nbformat_minor": 5
}
