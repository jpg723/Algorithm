{
 "cells": [
  {
   "cell_type": "code",
   "execution_count": null,
   "id": "db0f4e35",
   "metadata": {},
   "outputs": [],
   "source": [
    "#https://www.acmicpc.net/problem/17219\n",
    "\n",
    "#N, M입력\n",
    "N, M = input().split()\n",
    "\n",
    "#정수로 변환\n",
    "N = int(N)\n",
    "M = int(M)\n",
    "\n",
    "dict = {}\n",
    "\n",
    "for i in range(1, N + 1) :\n",
    "    site, password = input().split()\n",
    "    dict[site] = password\n",
    "    \n",
    "for i in range(1, M + 1) :\n",
    "    find_site = input()\n",
    "    print(dict[find_site])"
   ]
  }
 ],
 "metadata": {
  "kernelspec": {
   "display_name": "Python 3 (ipykernel)",
   "language": "python",
   "name": "python3"
  },
  "language_info": {
   "codemirror_mode": {
    "name": "ipython",
    "version": 3
   },
   "file_extension": ".py",
   "mimetype": "text/x-python",
   "name": "python",
   "nbconvert_exporter": "python",
   "pygments_lexer": "ipython3",
   "version": "3.11.5"
  }
 },
 "nbformat": 4,
 "nbformat_minor": 5
}
